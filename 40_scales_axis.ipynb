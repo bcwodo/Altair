{
 "cells": [
  {
   "cell_type": "code",
   "execution_count": 1,
   "metadata": {},
   "outputs": [],
   "source": [
    "import pandas as pd\n",
    "import altair as alt\n",
    "alt.renderers.enable(\"mimetype\")\n",
    "from vega_datasets import data\n",
    "import warnings\n",
    "warnings.filterwarnings('ignore')"
   ]
  },
  {
   "cell_type": "code",
   "execution_count": 2,
   "metadata": {},
   "outputs": [
    {
     "data": {
      "text/html": [
       "<div>\n",
       "<style scoped>\n",
       "    .dataframe tbody tr th:only-of-type {\n",
       "        vertical-align: middle;\n",
       "    }\n",
       "\n",
       "    .dataframe tbody tr th {\n",
       "        vertical-align: top;\n",
       "    }\n",
       "\n",
       "    .dataframe thead th {\n",
       "        text-align: right;\n",
       "    }\n",
       "</style>\n",
       "<table border=\"1\" class=\"dataframe\">\n",
       "  <thead>\n",
       "    <tr style=\"text-align: right;\">\n",
       "      <th></th>\n",
       "      <th>Bacteria</th>\n",
       "      <th>Penicillin</th>\n",
       "      <th>Streptomycin</th>\n",
       "      <th>Neomycin</th>\n",
       "      <th>Gram_Staining</th>\n",
       "      <th>Genus</th>\n",
       "    </tr>\n",
       "  </thead>\n",
       "  <tbody>\n",
       "    <tr>\n",
       "      <th>0</th>\n",
       "      <td>Aerobacter aerogenes</td>\n",
       "      <td>870.000</td>\n",
       "      <td>1.00</td>\n",
       "      <td>1.600</td>\n",
       "      <td>negative</td>\n",
       "      <td>other</td>\n",
       "    </tr>\n",
       "    <tr>\n",
       "      <th>1</th>\n",
       "      <td>Bacillus anthracis</td>\n",
       "      <td>0.001</td>\n",
       "      <td>0.01</td>\n",
       "      <td>0.007</td>\n",
       "      <td>positive</td>\n",
       "      <td>other</td>\n",
       "    </tr>\n",
       "    <tr>\n",
       "      <th>2</th>\n",
       "      <td>Brucella abortus</td>\n",
       "      <td>1.000</td>\n",
       "      <td>2.00</td>\n",
       "      <td>0.020</td>\n",
       "      <td>negative</td>\n",
       "      <td>other</td>\n",
       "    </tr>\n",
       "    <tr>\n",
       "      <th>3</th>\n",
       "      <td>Diplococcus pneumoniae</td>\n",
       "      <td>0.005</td>\n",
       "      <td>11.00</td>\n",
       "      <td>10.000</td>\n",
       "      <td>positive</td>\n",
       "      <td>other</td>\n",
       "    </tr>\n",
       "    <tr>\n",
       "      <th>4</th>\n",
       "      <td>Escherichia coli</td>\n",
       "      <td>100.000</td>\n",
       "      <td>0.40</td>\n",
       "      <td>0.100</td>\n",
       "      <td>negative</td>\n",
       "      <td>other</td>\n",
       "    </tr>\n",
       "  </tbody>\n",
       "</table>\n",
       "</div>"
      ],
      "text/plain": [
       "                 Bacteria  Penicillin  Streptomycin  Neomycin Gram_Staining  \\\n",
       "0    Aerobacter aerogenes     870.000          1.00     1.600      negative   \n",
       "1      Bacillus anthracis       0.001          0.01     0.007      positive   \n",
       "2        Brucella abortus       1.000          2.00     0.020      negative   \n",
       "3  Diplococcus pneumoniae       0.005         11.00    10.000      positive   \n",
       "4        Escherichia coli     100.000          0.40     0.100      negative   \n",
       "\n",
       "   Genus  \n",
       "0  other  \n",
       "1  other  \n",
       "2  other  \n",
       "3  other  \n",
       "4  other  "
      ]
     },
     "execution_count": 2,
     "metadata": {},
     "output_type": "execute_result"
    }
   ],
   "source": [
    "antibiotics_url = data.burtin.url\n",
    "df = pd.read_json(antibiotics_url)\n",
    "df.head()"
   ]
  },
  {
   "attachments": {},
   "cell_type": "markdown",
   "metadata": {},
   "source": [
    "## Achsen"
   ]
  },
  {
   "cell_type": "code",
   "execution_count": 3,
   "metadata": {},
   "outputs": [
    {
     "data": {
      "application/vnd.vegalite.v4+json": {
       "$schema": "https://vega.github.io/schema/vega-lite/v4.8.1.json",
       "config": {
        "view": {
         "continuousHeight": 300,
         "continuousWidth": 400
        }
       },
       "data": {
        "name": "data-8833440f737304311e72aeeffd7b9881"
       },
       "datasets": {
        "data-8833440f737304311e72aeeffd7b9881": [
         {
          "Bacteria": "Aerobacter aerogenes",
          "Genus": "other",
          "Gram_Staining": "negative",
          "Neomycin": 1.6,
          "Penicillin": 870,
          "Streptomycin": 1
         },
         {
          "Bacteria": "Bacillus anthracis",
          "Genus": "other",
          "Gram_Staining": "positive",
          "Neomycin": 0.007,
          "Penicillin": 0.001,
          "Streptomycin": 0.01
         },
         {
          "Bacteria": "Brucella abortus",
          "Genus": "other",
          "Gram_Staining": "negative",
          "Neomycin": 0.02,
          "Penicillin": 1,
          "Streptomycin": 2
         },
         {
          "Bacteria": "Diplococcus pneumoniae",
          "Genus": "other",
          "Gram_Staining": "positive",
          "Neomycin": 10,
          "Penicillin": 0.005,
          "Streptomycin": 11
         },
         {
          "Bacteria": "Escherichia coli",
          "Genus": "other",
          "Gram_Staining": "negative",
          "Neomycin": 0.1,
          "Penicillin": 100,
          "Streptomycin": 0.4
         },
         {
          "Bacteria": "Klebsiella pneumoniae",
          "Genus": "other",
          "Gram_Staining": "negative",
          "Neomycin": 1,
          "Penicillin": 850,
          "Streptomycin": 1.2
         },
         {
          "Bacteria": "Mycobacterium tuberculosis",
          "Genus": "other",
          "Gram_Staining": "negative",
          "Neomycin": 2,
          "Penicillin": 800,
          "Streptomycin": 5
         },
         {
          "Bacteria": "Proteus vulgaris",
          "Genus": "other",
          "Gram_Staining": "negative",
          "Neomycin": 0.1,
          "Penicillin": 3,
          "Streptomycin": 0.1
         },
         {
          "Bacteria": "Pseudomonas aeruginosa",
          "Genus": "other",
          "Gram_Staining": "negative",
          "Neomycin": 0.4,
          "Penicillin": 850,
          "Streptomycin": 2
         },
         {
          "Bacteria": "Salmonella (Eberthella) typhosa",
          "Genus": "Salmonella",
          "Gram_Staining": "negative",
          "Neomycin": 0.008,
          "Penicillin": 1,
          "Streptomycin": 0.4
         },
         {
          "Bacteria": "Salmonella schottmuelleri",
          "Genus": "Salmonella",
          "Gram_Staining": "negative",
          "Neomycin": 0.09,
          "Penicillin": 10,
          "Streptomycin": 0.8
         },
         {
          "Bacteria": "Staphylococcus albus",
          "Genus": "Staphylococcus",
          "Gram_Staining": "positive",
          "Neomycin": 0.001,
          "Penicillin": 0.007,
          "Streptomycin": 0.1
         },
         {
          "Bacteria": "Staphylococcus aureus",
          "Genus": "Staphylococcus",
          "Gram_Staining": "positive",
          "Neomycin": 0.001,
          "Penicillin": 0.03,
          "Streptomycin": 0.03
         },
         {
          "Bacteria": "Streptococcus fecalis",
          "Genus": "Streptococcus",
          "Gram_Staining": "positive",
          "Neomycin": 0.1,
          "Penicillin": 1,
          "Streptomycin": 1
         },
         {
          "Bacteria": "Streptococcus hemolyticus",
          "Genus": "Streptococcus",
          "Gram_Staining": "positive",
          "Neomycin": 10,
          "Penicillin": 0.001,
          "Streptomycin": 14
         },
         {
          "Bacteria": "Streptococcus viridans",
          "Genus": "Streptococcus",
          "Gram_Staining": "positive",
          "Neomycin": 40,
          "Penicillin": 0.005,
          "Streptomycin": 10
         }
        ]
       },
       "encoding": {
        "x": {
         "field": "Neomycin",
         "type": "quantitative"
        }
       },
       "mark": {
        "color": "aqua",
        "type": "circle"
       }
      },
      "text/plain": [
       "<VegaLite 4 object>\n",
       "\n",
       "If you see this message, it means the renderer has not been properly enabled\n",
       "for the frontend that you are using. For more information, see\n",
       "https://altair-viz.github.io/user_guide/troubleshooting.html\n"
      ]
     },
     "execution_count": 3,
     "metadata": {},
     "output_type": "execute_result"
    }
   ],
   "source": [
    "alt.Chart(df).mark_circle(color=\"aqua\").encode(\n",
    "    alt.X(\"Neomycin:Q\")\n",
    ")"
   ]
  },
  {
   "cell_type": "code",
   "execution_count": 4,
   "metadata": {},
   "outputs": [
    {
     "data": {
      "application/vnd.vegalite.v4+json": {
       "$schema": "https://vega.github.io/schema/vega-lite/v4.8.1.json",
       "config": {
        "view": {
         "continuousHeight": 300,
         "continuousWidth": 400
        }
       },
       "data": {
        "name": "data-8833440f737304311e72aeeffd7b9881"
       },
       "datasets": {
        "data-8833440f737304311e72aeeffd7b9881": [
         {
          "Bacteria": "Aerobacter aerogenes",
          "Genus": "other",
          "Gram_Staining": "negative",
          "Neomycin": 1.6,
          "Penicillin": 870,
          "Streptomycin": 1
         },
         {
          "Bacteria": "Bacillus anthracis",
          "Genus": "other",
          "Gram_Staining": "positive",
          "Neomycin": 0.007,
          "Penicillin": 0.001,
          "Streptomycin": 0.01
         },
         {
          "Bacteria": "Brucella abortus",
          "Genus": "other",
          "Gram_Staining": "negative",
          "Neomycin": 0.02,
          "Penicillin": 1,
          "Streptomycin": 2
         },
         {
          "Bacteria": "Diplococcus pneumoniae",
          "Genus": "other",
          "Gram_Staining": "positive",
          "Neomycin": 10,
          "Penicillin": 0.005,
          "Streptomycin": 11
         },
         {
          "Bacteria": "Escherichia coli",
          "Genus": "other",
          "Gram_Staining": "negative",
          "Neomycin": 0.1,
          "Penicillin": 100,
          "Streptomycin": 0.4
         },
         {
          "Bacteria": "Klebsiella pneumoniae",
          "Genus": "other",
          "Gram_Staining": "negative",
          "Neomycin": 1,
          "Penicillin": 850,
          "Streptomycin": 1.2
         },
         {
          "Bacteria": "Mycobacterium tuberculosis",
          "Genus": "other",
          "Gram_Staining": "negative",
          "Neomycin": 2,
          "Penicillin": 800,
          "Streptomycin": 5
         },
         {
          "Bacteria": "Proteus vulgaris",
          "Genus": "other",
          "Gram_Staining": "negative",
          "Neomycin": 0.1,
          "Penicillin": 3,
          "Streptomycin": 0.1
         },
         {
          "Bacteria": "Pseudomonas aeruginosa",
          "Genus": "other",
          "Gram_Staining": "negative",
          "Neomycin": 0.4,
          "Penicillin": 850,
          "Streptomycin": 2
         },
         {
          "Bacteria": "Salmonella (Eberthella) typhosa",
          "Genus": "Salmonella",
          "Gram_Staining": "negative",
          "Neomycin": 0.008,
          "Penicillin": 1,
          "Streptomycin": 0.4
         },
         {
          "Bacteria": "Salmonella schottmuelleri",
          "Genus": "Salmonella",
          "Gram_Staining": "negative",
          "Neomycin": 0.09,
          "Penicillin": 10,
          "Streptomycin": 0.8
         },
         {
          "Bacteria": "Staphylococcus albus",
          "Genus": "Staphylococcus",
          "Gram_Staining": "positive",
          "Neomycin": 0.001,
          "Penicillin": 0.007,
          "Streptomycin": 0.1
         },
         {
          "Bacteria": "Staphylococcus aureus",
          "Genus": "Staphylococcus",
          "Gram_Staining": "positive",
          "Neomycin": 0.001,
          "Penicillin": 0.03,
          "Streptomycin": 0.03
         },
         {
          "Bacteria": "Streptococcus fecalis",
          "Genus": "Streptococcus",
          "Gram_Staining": "positive",
          "Neomycin": 0.1,
          "Penicillin": 1,
          "Streptomycin": 1
         },
         {
          "Bacteria": "Streptococcus hemolyticus",
          "Genus": "Streptococcus",
          "Gram_Staining": "positive",
          "Neomycin": 10,
          "Penicillin": 0.001,
          "Streptomycin": 14
         },
         {
          "Bacteria": "Streptococcus viridans",
          "Genus": "Streptococcus",
          "Gram_Staining": "positive",
          "Neomycin": 40,
          "Penicillin": 0.005,
          "Streptomycin": 10
         }
        ]
       },
       "encoding": {
        "x": {
         "field": "Neomycin",
         "scale": {
          "type": "sqrt"
         },
         "type": "quantitative"
        }
       },
       "mark": {
        "color": "aqua",
        "type": "circle"
       }
      },
      "text/plain": [
       "<VegaLite 4 object>\n",
       "\n",
       "If you see this message, it means the renderer has not been properly enabled\n",
       "for the frontend that you are using. For more information, see\n",
       "https://altair-viz.github.io/user_guide/troubleshooting.html\n"
      ]
     },
     "execution_count": 4,
     "metadata": {},
     "output_type": "execute_result"
    }
   ],
   "source": [
    "alt.Chart(df).mark_circle(color=\"aqua\").encode(\n",
    "    alt.X(\"Neomycin:Q\", scale=alt.Scale(type=\"sqrt\"))\n",
    ")"
   ]
  },
  {
   "cell_type": "code",
   "execution_count": 5,
   "metadata": {},
   "outputs": [
    {
     "data": {
      "application/vnd.vegalite.v4+json": {
       "$schema": "https://vega.github.io/schema/vega-lite/v4.8.1.json",
       "config": {
        "view": {
         "continuousHeight": 300,
         "continuousWidth": 400
        }
       },
       "data": {
        "name": "data-8833440f737304311e72aeeffd7b9881"
       },
       "datasets": {
        "data-8833440f737304311e72aeeffd7b9881": [
         {
          "Bacteria": "Aerobacter aerogenes",
          "Genus": "other",
          "Gram_Staining": "negative",
          "Neomycin": 1.6,
          "Penicillin": 870,
          "Streptomycin": 1
         },
         {
          "Bacteria": "Bacillus anthracis",
          "Genus": "other",
          "Gram_Staining": "positive",
          "Neomycin": 0.007,
          "Penicillin": 0.001,
          "Streptomycin": 0.01
         },
         {
          "Bacteria": "Brucella abortus",
          "Genus": "other",
          "Gram_Staining": "negative",
          "Neomycin": 0.02,
          "Penicillin": 1,
          "Streptomycin": 2
         },
         {
          "Bacteria": "Diplococcus pneumoniae",
          "Genus": "other",
          "Gram_Staining": "positive",
          "Neomycin": 10,
          "Penicillin": 0.005,
          "Streptomycin": 11
         },
         {
          "Bacteria": "Escherichia coli",
          "Genus": "other",
          "Gram_Staining": "negative",
          "Neomycin": 0.1,
          "Penicillin": 100,
          "Streptomycin": 0.4
         },
         {
          "Bacteria": "Klebsiella pneumoniae",
          "Genus": "other",
          "Gram_Staining": "negative",
          "Neomycin": 1,
          "Penicillin": 850,
          "Streptomycin": 1.2
         },
         {
          "Bacteria": "Mycobacterium tuberculosis",
          "Genus": "other",
          "Gram_Staining": "negative",
          "Neomycin": 2,
          "Penicillin": 800,
          "Streptomycin": 5
         },
         {
          "Bacteria": "Proteus vulgaris",
          "Genus": "other",
          "Gram_Staining": "negative",
          "Neomycin": 0.1,
          "Penicillin": 3,
          "Streptomycin": 0.1
         },
         {
          "Bacteria": "Pseudomonas aeruginosa",
          "Genus": "other",
          "Gram_Staining": "negative",
          "Neomycin": 0.4,
          "Penicillin": 850,
          "Streptomycin": 2
         },
         {
          "Bacteria": "Salmonella (Eberthella) typhosa",
          "Genus": "Salmonella",
          "Gram_Staining": "negative",
          "Neomycin": 0.008,
          "Penicillin": 1,
          "Streptomycin": 0.4
         },
         {
          "Bacteria": "Salmonella schottmuelleri",
          "Genus": "Salmonella",
          "Gram_Staining": "negative",
          "Neomycin": 0.09,
          "Penicillin": 10,
          "Streptomycin": 0.8
         },
         {
          "Bacteria": "Staphylococcus albus",
          "Genus": "Staphylococcus",
          "Gram_Staining": "positive",
          "Neomycin": 0.001,
          "Penicillin": 0.007,
          "Streptomycin": 0.1
         },
         {
          "Bacteria": "Staphylococcus aureus",
          "Genus": "Staphylococcus",
          "Gram_Staining": "positive",
          "Neomycin": 0.001,
          "Penicillin": 0.03,
          "Streptomycin": 0.03
         },
         {
          "Bacteria": "Streptococcus fecalis",
          "Genus": "Streptococcus",
          "Gram_Staining": "positive",
          "Neomycin": 0.1,
          "Penicillin": 1,
          "Streptomycin": 1
         },
         {
          "Bacteria": "Streptococcus hemolyticus",
          "Genus": "Streptococcus",
          "Gram_Staining": "positive",
          "Neomycin": 10,
          "Penicillin": 0.001,
          "Streptomycin": 14
         },
         {
          "Bacteria": "Streptococcus viridans",
          "Genus": "Streptococcus",
          "Gram_Staining": "positive",
          "Neomycin": 40,
          "Penicillin": 0.005,
          "Streptomycin": 10
         }
        ]
       },
       "encoding": {
        "x": {
         "field": "Neomycin",
         "scale": {
          "type": "log"
         },
         "type": "quantitative"
        }
       },
       "mark": {
        "color": "aqua",
        "type": "circle"
       }
      },
      "text/plain": [
       "<VegaLite 4 object>\n",
       "\n",
       "If you see this message, it means the renderer has not been properly enabled\n",
       "for the frontend that you are using. For more information, see\n",
       "https://altair-viz.github.io/user_guide/troubleshooting.html\n"
      ]
     },
     "execution_count": 5,
     "metadata": {},
     "output_type": "execute_result"
    }
   ],
   "source": [
    "alt.Chart(df).mark_circle(color=\"aqua\").encode(\n",
    "    alt.X(\"Neomycin:Q\", scale=alt.Scale(type=\"log\"))\n",
    ")"
   ]
  },
  {
   "cell_type": "code",
   "execution_count": 6,
   "metadata": {},
   "outputs": [
    {
     "data": {
      "application/vnd.vegalite.v4+json": {
       "$schema": "https://vega.github.io/schema/vega-lite/v4.8.1.json",
       "config": {
        "view": {
         "continuousHeight": 300,
         "continuousWidth": 400
        }
       },
       "data": {
        "name": "data-8833440f737304311e72aeeffd7b9881"
       },
       "datasets": {
        "data-8833440f737304311e72aeeffd7b9881": [
         {
          "Bacteria": "Aerobacter aerogenes",
          "Genus": "other",
          "Gram_Staining": "negative",
          "Neomycin": 1.6,
          "Penicillin": 870,
          "Streptomycin": 1
         },
         {
          "Bacteria": "Bacillus anthracis",
          "Genus": "other",
          "Gram_Staining": "positive",
          "Neomycin": 0.007,
          "Penicillin": 0.001,
          "Streptomycin": 0.01
         },
         {
          "Bacteria": "Brucella abortus",
          "Genus": "other",
          "Gram_Staining": "negative",
          "Neomycin": 0.02,
          "Penicillin": 1,
          "Streptomycin": 2
         },
         {
          "Bacteria": "Diplococcus pneumoniae",
          "Genus": "other",
          "Gram_Staining": "positive",
          "Neomycin": 10,
          "Penicillin": 0.005,
          "Streptomycin": 11
         },
         {
          "Bacteria": "Escherichia coli",
          "Genus": "other",
          "Gram_Staining": "negative",
          "Neomycin": 0.1,
          "Penicillin": 100,
          "Streptomycin": 0.4
         },
         {
          "Bacteria": "Klebsiella pneumoniae",
          "Genus": "other",
          "Gram_Staining": "negative",
          "Neomycin": 1,
          "Penicillin": 850,
          "Streptomycin": 1.2
         },
         {
          "Bacteria": "Mycobacterium tuberculosis",
          "Genus": "other",
          "Gram_Staining": "negative",
          "Neomycin": 2,
          "Penicillin": 800,
          "Streptomycin": 5
         },
         {
          "Bacteria": "Proteus vulgaris",
          "Genus": "other",
          "Gram_Staining": "negative",
          "Neomycin": 0.1,
          "Penicillin": 3,
          "Streptomycin": 0.1
         },
         {
          "Bacteria": "Pseudomonas aeruginosa",
          "Genus": "other",
          "Gram_Staining": "negative",
          "Neomycin": 0.4,
          "Penicillin": 850,
          "Streptomycin": 2
         },
         {
          "Bacteria": "Salmonella (Eberthella) typhosa",
          "Genus": "Salmonella",
          "Gram_Staining": "negative",
          "Neomycin": 0.008,
          "Penicillin": 1,
          "Streptomycin": 0.4
         },
         {
          "Bacteria": "Salmonella schottmuelleri",
          "Genus": "Salmonella",
          "Gram_Staining": "negative",
          "Neomycin": 0.09,
          "Penicillin": 10,
          "Streptomycin": 0.8
         },
         {
          "Bacteria": "Staphylococcus albus",
          "Genus": "Staphylococcus",
          "Gram_Staining": "positive",
          "Neomycin": 0.001,
          "Penicillin": 0.007,
          "Streptomycin": 0.1
         },
         {
          "Bacteria": "Staphylococcus aureus",
          "Genus": "Staphylococcus",
          "Gram_Staining": "positive",
          "Neomycin": 0.001,
          "Penicillin": 0.03,
          "Streptomycin": 0.03
         },
         {
          "Bacteria": "Streptococcus fecalis",
          "Genus": "Streptococcus",
          "Gram_Staining": "positive",
          "Neomycin": 0.1,
          "Penicillin": 1,
          "Streptomycin": 1
         },
         {
          "Bacteria": "Streptococcus hemolyticus",
          "Genus": "Streptococcus",
          "Gram_Staining": "positive",
          "Neomycin": 10,
          "Penicillin": 0.001,
          "Streptomycin": 14
         },
         {
          "Bacteria": "Streptococcus viridans",
          "Genus": "Streptococcus",
          "Gram_Staining": "positive",
          "Neomycin": 40,
          "Penicillin": 0.005,
          "Streptomycin": 10
         }
        ]
       },
       "encoding": {
        "x": {
         "field": "Neomycin",
         "scale": {
          "type": "linear"
         },
         "sort": "descending",
         "type": "quantitative"
        }
       },
       "mark": {
        "color": "aqua",
        "type": "circle"
       }
      },
      "text/plain": [
       "<VegaLite 4 object>\n",
       "\n",
       "If you see this message, it means the renderer has not been properly enabled\n",
       "for the frontend that you are using. For more information, see\n",
       "https://altair-viz.github.io/user_guide/troubleshooting.html\n"
      ]
     },
     "execution_count": 6,
     "metadata": {},
     "output_type": "execute_result"
    }
   ],
   "source": [
    "alt.Chart(df).mark_circle(color=\"aqua\").encode(\n",
    "    alt.X(\"Neomycin:Q\", scale=alt.Scale(type=\"linear\"), sort=\"descending\")\n",
    ")"
   ]
  },
  {
   "cell_type": "code",
   "execution_count": 7,
   "metadata": {},
   "outputs": [
    {
     "data": {
      "application/vnd.vegalite.v4+json": {
       "$schema": "https://vega.github.io/schema/vega-lite/v4.8.1.json",
       "config": {
        "view": {
         "continuousHeight": 300,
         "continuousWidth": 400
        }
       },
       "data": {
        "name": "data-8833440f737304311e72aeeffd7b9881"
       },
       "datasets": {
        "data-8833440f737304311e72aeeffd7b9881": [
         {
          "Bacteria": "Aerobacter aerogenes",
          "Genus": "other",
          "Gram_Staining": "negative",
          "Neomycin": 1.6,
          "Penicillin": 870,
          "Streptomycin": 1
         },
         {
          "Bacteria": "Bacillus anthracis",
          "Genus": "other",
          "Gram_Staining": "positive",
          "Neomycin": 0.007,
          "Penicillin": 0.001,
          "Streptomycin": 0.01
         },
         {
          "Bacteria": "Brucella abortus",
          "Genus": "other",
          "Gram_Staining": "negative",
          "Neomycin": 0.02,
          "Penicillin": 1,
          "Streptomycin": 2
         },
         {
          "Bacteria": "Diplococcus pneumoniae",
          "Genus": "other",
          "Gram_Staining": "positive",
          "Neomycin": 10,
          "Penicillin": 0.005,
          "Streptomycin": 11
         },
         {
          "Bacteria": "Escherichia coli",
          "Genus": "other",
          "Gram_Staining": "negative",
          "Neomycin": 0.1,
          "Penicillin": 100,
          "Streptomycin": 0.4
         },
         {
          "Bacteria": "Klebsiella pneumoniae",
          "Genus": "other",
          "Gram_Staining": "negative",
          "Neomycin": 1,
          "Penicillin": 850,
          "Streptomycin": 1.2
         },
         {
          "Bacteria": "Mycobacterium tuberculosis",
          "Genus": "other",
          "Gram_Staining": "negative",
          "Neomycin": 2,
          "Penicillin": 800,
          "Streptomycin": 5
         },
         {
          "Bacteria": "Proteus vulgaris",
          "Genus": "other",
          "Gram_Staining": "negative",
          "Neomycin": 0.1,
          "Penicillin": 3,
          "Streptomycin": 0.1
         },
         {
          "Bacteria": "Pseudomonas aeruginosa",
          "Genus": "other",
          "Gram_Staining": "negative",
          "Neomycin": 0.4,
          "Penicillin": 850,
          "Streptomycin": 2
         },
         {
          "Bacteria": "Salmonella (Eberthella) typhosa",
          "Genus": "Salmonella",
          "Gram_Staining": "negative",
          "Neomycin": 0.008,
          "Penicillin": 1,
          "Streptomycin": 0.4
         },
         {
          "Bacteria": "Salmonella schottmuelleri",
          "Genus": "Salmonella",
          "Gram_Staining": "negative",
          "Neomycin": 0.09,
          "Penicillin": 10,
          "Streptomycin": 0.8
         },
         {
          "Bacteria": "Staphylococcus albus",
          "Genus": "Staphylococcus",
          "Gram_Staining": "positive",
          "Neomycin": 0.001,
          "Penicillin": 0.007,
          "Streptomycin": 0.1
         },
         {
          "Bacteria": "Staphylococcus aureus",
          "Genus": "Staphylococcus",
          "Gram_Staining": "positive",
          "Neomycin": 0.001,
          "Penicillin": 0.03,
          "Streptomycin": 0.03
         },
         {
          "Bacteria": "Streptococcus fecalis",
          "Genus": "Streptococcus",
          "Gram_Staining": "positive",
          "Neomycin": 0.1,
          "Penicillin": 1,
          "Streptomycin": 1
         },
         {
          "Bacteria": "Streptococcus hemolyticus",
          "Genus": "Streptococcus",
          "Gram_Staining": "positive",
          "Neomycin": 10,
          "Penicillin": 0.001,
          "Streptomycin": 14
         },
         {
          "Bacteria": "Streptococcus viridans",
          "Genus": "Streptococcus",
          "Gram_Staining": "positive",
          "Neomycin": 40,
          "Penicillin": 0.005,
          "Streptomycin": 10
         }
        ]
       },
       "encoding": {
        "x": {
         "axis": {
          "orient": "top"
         },
         "field": "Neomycin",
         "scale": {
          "type": "log"
         },
         "sort": "descending",
         "title": "Neomycin (reversed log scale)",
         "type": "quantitative"
        }
       },
       "mark": {
        "color": "aqua",
        "type": "circle"
       }
      },
      "text/plain": [
       "<VegaLite 4 object>\n",
       "\n",
       "If you see this message, it means the renderer has not been properly enabled\n",
       "for the frontend that you are using. For more information, see\n",
       "https://altair-viz.github.io/user_guide/troubleshooting.html\n"
      ]
     },
     "execution_count": 7,
     "metadata": {},
     "output_type": "execute_result"
    }
   ],
   "source": [
    "alt.Chart(df).mark_circle(color=\"aqua\").encode(\n",
    "    alt.X(\"Neomycin:Q\", \n",
    "          scale=alt.Scale(type=\"log\"), \n",
    "          sort=\"descending\",\n",
    "          axis = alt.Axis(orient=\"top\"),\n",
    "          title = \"Neomycin (reversed log scale)\"\n",
    "          )\n",
    ")"
   ]
  },
  {
   "cell_type": "code",
   "execution_count": 8,
   "metadata": {},
   "outputs": [
    {
     "data": {
      "application/vnd.vegalite.v4+json": {
       "$schema": "https://vega.github.io/schema/vega-lite/v4.8.1.json",
       "config": {
        "view": {
         "continuousHeight": 300,
         "continuousWidth": 400
        }
       },
       "data": {
        "name": "data-8833440f737304311e72aeeffd7b9881"
       },
       "datasets": {
        "data-8833440f737304311e72aeeffd7b9881": [
         {
          "Bacteria": "Aerobacter aerogenes",
          "Genus": "other",
          "Gram_Staining": "negative",
          "Neomycin": 1.6,
          "Penicillin": 870,
          "Streptomycin": 1
         },
         {
          "Bacteria": "Bacillus anthracis",
          "Genus": "other",
          "Gram_Staining": "positive",
          "Neomycin": 0.007,
          "Penicillin": 0.001,
          "Streptomycin": 0.01
         },
         {
          "Bacteria": "Brucella abortus",
          "Genus": "other",
          "Gram_Staining": "negative",
          "Neomycin": 0.02,
          "Penicillin": 1,
          "Streptomycin": 2
         },
         {
          "Bacteria": "Diplococcus pneumoniae",
          "Genus": "other",
          "Gram_Staining": "positive",
          "Neomycin": 10,
          "Penicillin": 0.005,
          "Streptomycin": 11
         },
         {
          "Bacteria": "Escherichia coli",
          "Genus": "other",
          "Gram_Staining": "negative",
          "Neomycin": 0.1,
          "Penicillin": 100,
          "Streptomycin": 0.4
         },
         {
          "Bacteria": "Klebsiella pneumoniae",
          "Genus": "other",
          "Gram_Staining": "negative",
          "Neomycin": 1,
          "Penicillin": 850,
          "Streptomycin": 1.2
         },
         {
          "Bacteria": "Mycobacterium tuberculosis",
          "Genus": "other",
          "Gram_Staining": "negative",
          "Neomycin": 2,
          "Penicillin": 800,
          "Streptomycin": 5
         },
         {
          "Bacteria": "Proteus vulgaris",
          "Genus": "other",
          "Gram_Staining": "negative",
          "Neomycin": 0.1,
          "Penicillin": 3,
          "Streptomycin": 0.1
         },
         {
          "Bacteria": "Pseudomonas aeruginosa",
          "Genus": "other",
          "Gram_Staining": "negative",
          "Neomycin": 0.4,
          "Penicillin": 850,
          "Streptomycin": 2
         },
         {
          "Bacteria": "Salmonella (Eberthella) typhosa",
          "Genus": "Salmonella",
          "Gram_Staining": "negative",
          "Neomycin": 0.008,
          "Penicillin": 1,
          "Streptomycin": 0.4
         },
         {
          "Bacteria": "Salmonella schottmuelleri",
          "Genus": "Salmonella",
          "Gram_Staining": "negative",
          "Neomycin": 0.09,
          "Penicillin": 10,
          "Streptomycin": 0.8
         },
         {
          "Bacteria": "Staphylococcus albus",
          "Genus": "Staphylococcus",
          "Gram_Staining": "positive",
          "Neomycin": 0.001,
          "Penicillin": 0.007,
          "Streptomycin": 0.1
         },
         {
          "Bacteria": "Staphylococcus aureus",
          "Genus": "Staphylococcus",
          "Gram_Staining": "positive",
          "Neomycin": 0.001,
          "Penicillin": 0.03,
          "Streptomycin": 0.03
         },
         {
          "Bacteria": "Streptococcus fecalis",
          "Genus": "Streptococcus",
          "Gram_Staining": "positive",
          "Neomycin": 0.1,
          "Penicillin": 1,
          "Streptomycin": 1
         },
         {
          "Bacteria": "Streptococcus hemolyticus",
          "Genus": "Streptococcus",
          "Gram_Staining": "positive",
          "Neomycin": 10,
          "Penicillin": 0.001,
          "Streptomycin": 14
         },
         {
          "Bacteria": "Streptococcus viridans",
          "Genus": "Streptococcus",
          "Gram_Staining": "positive",
          "Neomycin": 40,
          "Penicillin": 0.005,
          "Streptomycin": 10
         }
        ]
       },
       "encoding": {
        "x": {
         "axis": {
          "orient": "top"
         },
         "field": "Neomycin",
         "scale": {
          "type": "log"
         },
         "sort": "descending",
         "title": "Neomycin (reversed log scale)",
         "type": "quantitative"
        },
        "y": {
         "axis": {
          "orient": "right"
         },
         "field": "Streptomycin",
         "scale": {
          "type": "log"
         },
         "sort": "descending",
         "title": "Streptomycin (reversed log scale)",
         "type": "quantitative"
        }
       },
       "mark": {
        "color": "lime",
        "size": 50,
        "type": "circle"
       }
      },
      "text/plain": [
       "<VegaLite 4 object>\n",
       "\n",
       "If you see this message, it means the renderer has not been properly enabled\n",
       "for the frontend that you are using. For more information, see\n",
       "https://altair-viz.github.io/user_guide/troubleshooting.html\n"
      ]
     },
     "execution_count": 8,
     "metadata": {},
     "output_type": "execute_result"
    }
   ],
   "source": [
    "alt.Chart(df).mark_circle(color=\"lime\", size=50).encode(\n",
    "    alt.X(\"Neomycin:Q\", \n",
    "          scale=alt.Scale(type=\"log\"), \n",
    "          sort=\"descending\",\n",
    "          axis = alt.Axis(orient=\"top\"),\n",
    "          title = \"Neomycin (reversed log scale)\"\n",
    "          ),\n",
    "    alt.Y(\"Streptomycin:Q\", \n",
    "          scale=alt.Scale(type=\"log\"), \n",
    "          sort=\"descending\",\n",
    "          axis = alt.Axis(orient=\"right\"),\n",
    "          title = \"Streptomycin (reversed log scale)\"\n",
    "          )\n",
    ")"
   ]
  },
  {
   "cell_type": "code",
   "execution_count": 9,
   "metadata": {},
   "outputs": [
    {
     "data": {
      "application/vnd.vegalite.v4+json": {
       "$schema": "https://vega.github.io/schema/vega-lite/v4.8.1.json",
       "config": {
        "view": {
         "continuousHeight": 300,
         "continuousWidth": 400
        }
       },
       "data": {
        "name": "data-8833440f737304311e72aeeffd7b9881"
       },
       "datasets": {
        "data-8833440f737304311e72aeeffd7b9881": [
         {
          "Bacteria": "Aerobacter aerogenes",
          "Genus": "other",
          "Gram_Staining": "negative",
          "Neomycin": 1.6,
          "Penicillin": 870,
          "Streptomycin": 1
         },
         {
          "Bacteria": "Bacillus anthracis",
          "Genus": "other",
          "Gram_Staining": "positive",
          "Neomycin": 0.007,
          "Penicillin": 0.001,
          "Streptomycin": 0.01
         },
         {
          "Bacteria": "Brucella abortus",
          "Genus": "other",
          "Gram_Staining": "negative",
          "Neomycin": 0.02,
          "Penicillin": 1,
          "Streptomycin": 2
         },
         {
          "Bacteria": "Diplococcus pneumoniae",
          "Genus": "other",
          "Gram_Staining": "positive",
          "Neomycin": 10,
          "Penicillin": 0.005,
          "Streptomycin": 11
         },
         {
          "Bacteria": "Escherichia coli",
          "Genus": "other",
          "Gram_Staining": "negative",
          "Neomycin": 0.1,
          "Penicillin": 100,
          "Streptomycin": 0.4
         },
         {
          "Bacteria": "Klebsiella pneumoniae",
          "Genus": "other",
          "Gram_Staining": "negative",
          "Neomycin": 1,
          "Penicillin": 850,
          "Streptomycin": 1.2
         },
         {
          "Bacteria": "Mycobacterium tuberculosis",
          "Genus": "other",
          "Gram_Staining": "negative",
          "Neomycin": 2,
          "Penicillin": 800,
          "Streptomycin": 5
         },
         {
          "Bacteria": "Proteus vulgaris",
          "Genus": "other",
          "Gram_Staining": "negative",
          "Neomycin": 0.1,
          "Penicillin": 3,
          "Streptomycin": 0.1
         },
         {
          "Bacteria": "Pseudomonas aeruginosa",
          "Genus": "other",
          "Gram_Staining": "negative",
          "Neomycin": 0.4,
          "Penicillin": 850,
          "Streptomycin": 2
         },
         {
          "Bacteria": "Salmonella (Eberthella) typhosa",
          "Genus": "Salmonella",
          "Gram_Staining": "negative",
          "Neomycin": 0.008,
          "Penicillin": 1,
          "Streptomycin": 0.4
         },
         {
          "Bacteria": "Salmonella schottmuelleri",
          "Genus": "Salmonella",
          "Gram_Staining": "negative",
          "Neomycin": 0.09,
          "Penicillin": 10,
          "Streptomycin": 0.8
         },
         {
          "Bacteria": "Staphylococcus albus",
          "Genus": "Staphylococcus",
          "Gram_Staining": "positive",
          "Neomycin": 0.001,
          "Penicillin": 0.007,
          "Streptomycin": 0.1
         },
         {
          "Bacteria": "Staphylococcus aureus",
          "Genus": "Staphylococcus",
          "Gram_Staining": "positive",
          "Neomycin": 0.001,
          "Penicillin": 0.03,
          "Streptomycin": 0.03
         },
         {
          "Bacteria": "Streptococcus fecalis",
          "Genus": "Streptococcus",
          "Gram_Staining": "positive",
          "Neomycin": 0.1,
          "Penicillin": 1,
          "Streptomycin": 1
         },
         {
          "Bacteria": "Streptococcus hemolyticus",
          "Genus": "Streptococcus",
          "Gram_Staining": "positive",
          "Neomycin": 10,
          "Penicillin": 0.001,
          "Streptomycin": 14
         },
         {
          "Bacteria": "Streptococcus viridans",
          "Genus": "Streptococcus",
          "Gram_Staining": "positive",
          "Neomycin": 40,
          "Penicillin": 0.005,
          "Streptomycin": 10
         }
        ]
       },
       "encoding": {
        "x": {
         "axis": {
          "orient": "top"
         },
         "field": "Neomycin",
         "scale": {
          "type": "log"
         },
         "sort": "descending",
         "title": "Neomycin (reversed log scale)",
         "type": "quantitative"
        },
        "y": {
         "axis": {
          "orient": "right"
         },
         "field": "Penicillin",
         "scale": {
          "type": "log"
         },
         "sort": "descending",
         "title": "Penicillin (reversed log scale)",
         "type": "quantitative"
        }
       },
       "mark": {
        "color": "lime",
        "size": 50,
        "type": "circle"
       }
      },
      "text/plain": [
       "<VegaLite 4 object>\n",
       "\n",
       "If you see this message, it means the renderer has not been properly enabled\n",
       "for the frontend that you are using. For more information, see\n",
       "https://altair-viz.github.io/user_guide/troubleshooting.html\n"
      ]
     },
     "execution_count": 9,
     "metadata": {},
     "output_type": "execute_result"
    }
   ],
   "source": [
    "alt.Chart(df).mark_circle(color=\"lime\", size=50).encode(\n",
    "    alt.X(\"Neomycin:Q\", \n",
    "          scale=alt.Scale(type=\"log\"), \n",
    "          sort=\"descending\",\n",
    "          axis = alt.Axis(orient=\"top\"),\n",
    "          title = \"Neomycin (reversed log scale)\"\n",
    "          ),\n",
    "    alt.Y(\"Penicillin:Q\", \n",
    "          scale=alt.Scale(type=\"log\"), \n",
    "          sort=\"descending\",\n",
    "          axis = alt.Axis(orient=\"right\"),\n",
    "          title = \"Penicillin (reversed log scale)\"\n",
    "          )\n",
    ")"
   ]
  },
  {
   "cell_type": "code",
   "execution_count": 10,
   "metadata": {},
   "outputs": [
    {
     "data": {
      "application/vnd.vegalite.v4+json": {
       "$schema": "https://vega.github.io/schema/vega-lite/v4.8.1.json",
       "config": {
        "view": {
         "continuousHeight": 300,
         "continuousWidth": 400
        }
       },
       "data": {
        "name": "data-8833440f737304311e72aeeffd7b9881"
       },
       "datasets": {
        "data-8833440f737304311e72aeeffd7b9881": [
         {
          "Bacteria": "Aerobacter aerogenes",
          "Genus": "other",
          "Gram_Staining": "negative",
          "Neomycin": 1.6,
          "Penicillin": 870,
          "Streptomycin": 1
         },
         {
          "Bacteria": "Bacillus anthracis",
          "Genus": "other",
          "Gram_Staining": "positive",
          "Neomycin": 0.007,
          "Penicillin": 0.001,
          "Streptomycin": 0.01
         },
         {
          "Bacteria": "Brucella abortus",
          "Genus": "other",
          "Gram_Staining": "negative",
          "Neomycin": 0.02,
          "Penicillin": 1,
          "Streptomycin": 2
         },
         {
          "Bacteria": "Diplococcus pneumoniae",
          "Genus": "other",
          "Gram_Staining": "positive",
          "Neomycin": 10,
          "Penicillin": 0.005,
          "Streptomycin": 11
         },
         {
          "Bacteria": "Escherichia coli",
          "Genus": "other",
          "Gram_Staining": "negative",
          "Neomycin": 0.1,
          "Penicillin": 100,
          "Streptomycin": 0.4
         },
         {
          "Bacteria": "Klebsiella pneumoniae",
          "Genus": "other",
          "Gram_Staining": "negative",
          "Neomycin": 1,
          "Penicillin": 850,
          "Streptomycin": 1.2
         },
         {
          "Bacteria": "Mycobacterium tuberculosis",
          "Genus": "other",
          "Gram_Staining": "negative",
          "Neomycin": 2,
          "Penicillin": 800,
          "Streptomycin": 5
         },
         {
          "Bacteria": "Proteus vulgaris",
          "Genus": "other",
          "Gram_Staining": "negative",
          "Neomycin": 0.1,
          "Penicillin": 3,
          "Streptomycin": 0.1
         },
         {
          "Bacteria": "Pseudomonas aeruginosa",
          "Genus": "other",
          "Gram_Staining": "negative",
          "Neomycin": 0.4,
          "Penicillin": 850,
          "Streptomycin": 2
         },
         {
          "Bacteria": "Salmonella (Eberthella) typhosa",
          "Genus": "Salmonella",
          "Gram_Staining": "negative",
          "Neomycin": 0.008,
          "Penicillin": 1,
          "Streptomycin": 0.4
         },
         {
          "Bacteria": "Salmonella schottmuelleri",
          "Genus": "Salmonella",
          "Gram_Staining": "negative",
          "Neomycin": 0.09,
          "Penicillin": 10,
          "Streptomycin": 0.8
         },
         {
          "Bacteria": "Staphylococcus albus",
          "Genus": "Staphylococcus",
          "Gram_Staining": "positive",
          "Neomycin": 0.001,
          "Penicillin": 0.007,
          "Streptomycin": 0.1
         },
         {
          "Bacteria": "Staphylococcus aureus",
          "Genus": "Staphylococcus",
          "Gram_Staining": "positive",
          "Neomycin": 0.001,
          "Penicillin": 0.03,
          "Streptomycin": 0.03
         },
         {
          "Bacteria": "Streptococcus fecalis",
          "Genus": "Streptococcus",
          "Gram_Staining": "positive",
          "Neomycin": 0.1,
          "Penicillin": 1,
          "Streptomycin": 1
         },
         {
          "Bacteria": "Streptococcus hemolyticus",
          "Genus": "Streptococcus",
          "Gram_Staining": "positive",
          "Neomycin": 10,
          "Penicillin": 0.001,
          "Streptomycin": 14
         },
         {
          "Bacteria": "Streptococcus viridans",
          "Genus": "Streptococcus",
          "Gram_Staining": "positive",
          "Neomycin": 40,
          "Penicillin": 0.005,
          "Streptomycin": 10
         }
        ]
       },
       "encoding": {
        "x": {
         "axis": {
          "tickCount": 5
         },
         "field": "Neomycin",
         "scale": {
          "domain": [
           0.001,
           1000
          ],
          "type": "log"
         },
         "sort": "descending",
         "title": "Neomycin (reversed log scale)",
         "type": "quantitative"
        },
        "y": {
         "axis": {
          "tickCount": 5
         },
         "field": "Penicillin",
         "scale": {
          "domain": [
           0.001,
           1000
          ],
          "type": "log"
         },
         "sort": "descending",
         "title": "Penicillin (reversed log scale)",
         "type": "quantitative"
        }
       },
       "height": 300,
       "mark": {
        "color": "lime",
        "size": 50,
        "type": "circle"
       },
       "width": 300
      },
      "text/plain": [
       "<VegaLite 4 object>\n",
       "\n",
       "If you see this message, it means the renderer has not been properly enabled\n",
       "for the frontend that you are using. For more information, see\n",
       "https://altair-viz.github.io/user_guide/troubleshooting.html\n"
      ]
     },
     "execution_count": 10,
     "metadata": {},
     "output_type": "execute_result"
    }
   ],
   "source": [
    "# damit Proportionen und Skalen passen\n",
    "alt.Chart(df).mark_circle(color=\"lime\", size=50).encode(\n",
    "    alt.X(\"Neomycin:Q\", \n",
    "          scale=alt.Scale(type=\"log\", domain=[0.001, 1000]), \n",
    "          sort=\"descending\",\n",
    "          axis = alt.Axis(tickCount=5),\n",
    "          title = \"Neomycin (reversed log scale)\"\n",
    "          ),\n",
    "    alt.Y(\"Penicillin:Q\", \n",
    "          scale=alt.Scale(type=\"log\", domain=[0.001, 1000]), \n",
    "          sort=\"descending\",\n",
    "          axis = alt.Axis(tickCount=5),\n",
    "          title = \"Penicillin (reversed log scale)\"\n",
    "          )\n",
    ").properties(\n",
    "    width = 300,\n",
    "    height = 300\n",
    ")"
   ]
  },
  {
   "attachments": {},
   "cell_type": "markdown",
   "metadata": {},
   "source": [
    "## Farbe & Legende"
   ]
  },
  {
   "cell_type": "code",
   "execution_count": 17,
   "metadata": {},
   "outputs": [
    {
     "data": {
      "application/vnd.vegalite.v4+json": {
       "$schema": "https://vega.github.io/schema/vega-lite/v4.8.1.json",
       "config": {
        "view": {
         "continuousHeight": 300,
         "continuousWidth": 400
        }
       },
       "data": {
        "name": "data-8833440f737304311e72aeeffd7b9881"
       },
       "datasets": {
        "data-8833440f737304311e72aeeffd7b9881": [
         {
          "Bacteria": "Aerobacter aerogenes",
          "Genus": "other",
          "Gram_Staining": "negative",
          "Neomycin": 1.6,
          "Penicillin": 870,
          "Streptomycin": 1
         },
         {
          "Bacteria": "Bacillus anthracis",
          "Genus": "other",
          "Gram_Staining": "positive",
          "Neomycin": 0.007,
          "Penicillin": 0.001,
          "Streptomycin": 0.01
         },
         {
          "Bacteria": "Brucella abortus",
          "Genus": "other",
          "Gram_Staining": "negative",
          "Neomycin": 0.02,
          "Penicillin": 1,
          "Streptomycin": 2
         },
         {
          "Bacteria": "Diplococcus pneumoniae",
          "Genus": "other",
          "Gram_Staining": "positive",
          "Neomycin": 10,
          "Penicillin": 0.005,
          "Streptomycin": 11
         },
         {
          "Bacteria": "Escherichia coli",
          "Genus": "other",
          "Gram_Staining": "negative",
          "Neomycin": 0.1,
          "Penicillin": 100,
          "Streptomycin": 0.4
         },
         {
          "Bacteria": "Klebsiella pneumoniae",
          "Genus": "other",
          "Gram_Staining": "negative",
          "Neomycin": 1,
          "Penicillin": 850,
          "Streptomycin": 1.2
         },
         {
          "Bacteria": "Mycobacterium tuberculosis",
          "Genus": "other",
          "Gram_Staining": "negative",
          "Neomycin": 2,
          "Penicillin": 800,
          "Streptomycin": 5
         },
         {
          "Bacteria": "Proteus vulgaris",
          "Genus": "other",
          "Gram_Staining": "negative",
          "Neomycin": 0.1,
          "Penicillin": 3,
          "Streptomycin": 0.1
         },
         {
          "Bacteria": "Pseudomonas aeruginosa",
          "Genus": "other",
          "Gram_Staining": "negative",
          "Neomycin": 0.4,
          "Penicillin": 850,
          "Streptomycin": 2
         },
         {
          "Bacteria": "Salmonella (Eberthella) typhosa",
          "Genus": "Salmonella",
          "Gram_Staining": "negative",
          "Neomycin": 0.008,
          "Penicillin": 1,
          "Streptomycin": 0.4
         },
         {
          "Bacteria": "Salmonella schottmuelleri",
          "Genus": "Salmonella",
          "Gram_Staining": "negative",
          "Neomycin": 0.09,
          "Penicillin": 10,
          "Streptomycin": 0.8
         },
         {
          "Bacteria": "Staphylococcus albus",
          "Genus": "Staphylococcus",
          "Gram_Staining": "positive",
          "Neomycin": 0.001,
          "Penicillin": 0.007,
          "Streptomycin": 0.1
         },
         {
          "Bacteria": "Staphylococcus aureus",
          "Genus": "Staphylococcus",
          "Gram_Staining": "positive",
          "Neomycin": 0.001,
          "Penicillin": 0.03,
          "Streptomycin": 0.03
         },
         {
          "Bacteria": "Streptococcus fecalis",
          "Genus": "Streptococcus",
          "Gram_Staining": "positive",
          "Neomycin": 0.1,
          "Penicillin": 1,
          "Streptomycin": 1
         },
         {
          "Bacteria": "Streptococcus hemolyticus",
          "Genus": "Streptococcus",
          "Gram_Staining": "positive",
          "Neomycin": 10,
          "Penicillin": 0.001,
          "Streptomycin": 14
         },
         {
          "Bacteria": "Streptococcus viridans",
          "Genus": "Streptococcus",
          "Gram_Staining": "positive",
          "Neomycin": 40,
          "Penicillin": 0.005,
          "Streptomycin": 10
         }
        ]
       },
       "encoding": {
        "color": {
         "field": "Gram_Staining",
         "legend": {
          "orient": "bottom"
         },
         "scale": {
          "domain": [
           "negative",
           "positive"
          ],
          "range": [
           "magenta",
           "aqua"
          ]
         },
         "type": "nominal"
        },
        "x": {
         "axis": {
          "tickCount": 5
         },
         "field": "Neomycin",
         "scale": {
          "domain": [
           0.001,
           1000
          ],
          "type": "log"
         },
         "sort": "descending",
         "title": "Neomycin (reversed log scale)",
         "type": "quantitative"
        },
        "y": {
         "axis": {
          "tickCount": 5
         },
         "field": "Penicillin",
         "scale": {
          "domain": [
           0.001,
           1000
          ],
          "type": "log"
         },
         "sort": "descending",
         "title": "Penicillin (reversed log scale)",
         "type": "quantitative"
        }
       },
       "height": 300,
       "mark": {
        "size": 50,
        "type": "circle"
       },
       "width": 300
      },
      "text/plain": [
       "<VegaLite 4 object>\n",
       "\n",
       "If you see this message, it means the renderer has not been properly enabled\n",
       "for the frontend that you are using. For more information, see\n",
       "https://altair-viz.github.io/user_guide/troubleshooting.html\n"
      ]
     },
     "execution_count": 17,
     "metadata": {},
     "output_type": "execute_result"
    }
   ],
   "source": [
    "alt.Chart(df).mark_circle(size=50).encode(\n",
    "    alt.X(\"Neomycin:Q\", \n",
    "          scale=alt.Scale(type=\"log\", domain=[0.001, 1000]), \n",
    "          sort=\"descending\",\n",
    "          axis = alt.Axis(tickCount=5),\n",
    "          title = \"Neomycin (reversed log scale)\"\n",
    "          ),\n",
    "    alt.Y(\"Penicillin:Q\", \n",
    "          scale=alt.Scale(type=\"log\", domain=[0.001, 1000]), \n",
    "          sort=\"descending\",\n",
    "          axis = alt.Axis(tickCount=5),\n",
    "          title = \"Penicillin (reversed log scale)\"\n",
    "          ),\n",
    "    alt.Color(\"Gram_Staining:N\", \n",
    "              scale = alt.Scale(\n",
    "                domain=[\"negative\", \"positive\"],\n",
    "                range=[\"magenta\", \"aqua\"]\n",
    "              ),\n",
    "              legend=alt.Legend(orient=\"bottom\")\n",
    "              )\n",
    ").properties(\n",
    "    width = 300,\n",
    "    height = 300\n",
    ")"
   ]
  },
  {
   "cell_type": "code",
   "execution_count": 20,
   "metadata": {},
   "outputs": [
    {
     "data": {
      "application/vnd.vegalite.v4+json": {
       "$schema": "https://vega.github.io/schema/vega-lite/v4.8.1.json",
       "config": {
        "view": {
         "continuousHeight": 300,
         "continuousWidth": 400
        }
       },
       "data": {
        "name": "data-8833440f737304311e72aeeffd7b9881"
       },
       "datasets": {
        "data-8833440f737304311e72aeeffd7b9881": [
         {
          "Bacteria": "Aerobacter aerogenes",
          "Genus": "other",
          "Gram_Staining": "negative",
          "Neomycin": 1.6,
          "Penicillin": 870,
          "Streptomycin": 1
         },
         {
          "Bacteria": "Bacillus anthracis",
          "Genus": "other",
          "Gram_Staining": "positive",
          "Neomycin": 0.007,
          "Penicillin": 0.001,
          "Streptomycin": 0.01
         },
         {
          "Bacteria": "Brucella abortus",
          "Genus": "other",
          "Gram_Staining": "negative",
          "Neomycin": 0.02,
          "Penicillin": 1,
          "Streptomycin": 2
         },
         {
          "Bacteria": "Diplococcus pneumoniae",
          "Genus": "other",
          "Gram_Staining": "positive",
          "Neomycin": 10,
          "Penicillin": 0.005,
          "Streptomycin": 11
         },
         {
          "Bacteria": "Escherichia coli",
          "Genus": "other",
          "Gram_Staining": "negative",
          "Neomycin": 0.1,
          "Penicillin": 100,
          "Streptomycin": 0.4
         },
         {
          "Bacteria": "Klebsiella pneumoniae",
          "Genus": "other",
          "Gram_Staining": "negative",
          "Neomycin": 1,
          "Penicillin": 850,
          "Streptomycin": 1.2
         },
         {
          "Bacteria": "Mycobacterium tuberculosis",
          "Genus": "other",
          "Gram_Staining": "negative",
          "Neomycin": 2,
          "Penicillin": 800,
          "Streptomycin": 5
         },
         {
          "Bacteria": "Proteus vulgaris",
          "Genus": "other",
          "Gram_Staining": "negative",
          "Neomycin": 0.1,
          "Penicillin": 3,
          "Streptomycin": 0.1
         },
         {
          "Bacteria": "Pseudomonas aeruginosa",
          "Genus": "other",
          "Gram_Staining": "negative",
          "Neomycin": 0.4,
          "Penicillin": 850,
          "Streptomycin": 2
         },
         {
          "Bacteria": "Salmonella (Eberthella) typhosa",
          "Genus": "Salmonella",
          "Gram_Staining": "negative",
          "Neomycin": 0.008,
          "Penicillin": 1,
          "Streptomycin": 0.4
         },
         {
          "Bacteria": "Salmonella schottmuelleri",
          "Genus": "Salmonella",
          "Gram_Staining": "negative",
          "Neomycin": 0.09,
          "Penicillin": 10,
          "Streptomycin": 0.8
         },
         {
          "Bacteria": "Staphylococcus albus",
          "Genus": "Staphylococcus",
          "Gram_Staining": "positive",
          "Neomycin": 0.001,
          "Penicillin": 0.007,
          "Streptomycin": 0.1
         },
         {
          "Bacteria": "Staphylococcus aureus",
          "Genus": "Staphylococcus",
          "Gram_Staining": "positive",
          "Neomycin": 0.001,
          "Penicillin": 0.03,
          "Streptomycin": 0.03
         },
         {
          "Bacteria": "Streptococcus fecalis",
          "Genus": "Streptococcus",
          "Gram_Staining": "positive",
          "Neomycin": 0.1,
          "Penicillin": 1,
          "Streptomycin": 1
         },
         {
          "Bacteria": "Streptococcus hemolyticus",
          "Genus": "Streptococcus",
          "Gram_Staining": "positive",
          "Neomycin": 10,
          "Penicillin": 0.001,
          "Streptomycin": 14
         },
         {
          "Bacteria": "Streptococcus viridans",
          "Genus": "Streptococcus",
          "Gram_Staining": "positive",
          "Neomycin": 40,
          "Penicillin": 0.005,
          "Streptomycin": 10
         }
        ]
       },
       "encoding": {
        "color": {
         "field": "Bacteria",
         "scale": {
          "scheme": "category20"
         },
         "type": "nominal"
        },
        "x": {
         "axis": {
          "tickCount": 5
         },
         "field": "Neomycin",
         "scale": {
          "domain": [
           0.001,
           1000
          ],
          "type": "log"
         },
         "sort": "descending",
         "title": "Neomycin (reversed log scale)",
         "type": "quantitative"
        },
        "y": {
         "axis": {
          "tickCount": 5
         },
         "field": "Penicillin",
         "scale": {
          "domain": [
           0.001,
           1000
          ],
          "type": "log"
         },
         "sort": "descending",
         "title": "Penicillin (reversed log scale)",
         "type": "quantitative"
        }
       },
       "height": 300,
       "mark": {
        "size": 50,
        "type": "circle"
       },
       "width": 300
      },
      "text/plain": [
       "<VegaLite 4 object>\n",
       "\n",
       "If you see this message, it means the renderer has not been properly enabled\n",
       "for the frontend that you are using. For more information, see\n",
       "https://altair-viz.github.io/user_guide/troubleshooting.html\n"
      ]
     },
     "execution_count": 20,
     "metadata": {},
     "output_type": "execute_result"
    }
   ],
   "source": [
    "alt.Chart(df).mark_circle(size=50).encode(\n",
    "    alt.X(\"Neomycin:Q\", \n",
    "          scale=alt.Scale(type=\"log\", domain=[0.001, 1000]), \n",
    "          sort=\"descending\",\n",
    "          axis = alt.Axis(tickCount=5),\n",
    "          title = \"Neomycin (reversed log scale)\"\n",
    "          ),\n",
    "    alt.Y(\"Penicillin:Q\", \n",
    "          scale=alt.Scale(type=\"log\", domain=[0.001, 1000]), \n",
    "          sort=\"descending\",\n",
    "          axis = alt.Axis(tickCount=5),\n",
    "          title = \"Penicillin (reversed log scale)\"\n",
    "          ),\n",
    "    alt.Color(\"Bacteria:N\", scale=alt.Scale(scheme=\"category20\"))\n",
    ").properties(\n",
    "    width = 300,\n",
    "    height = 300\n",
    ")"
   ]
  },
  {
   "cell_type": "code",
   "execution_count": 29,
   "metadata": {},
   "outputs": [
    {
     "data": {
      "application/vnd.vegalite.v4+json": {
       "$schema": "https://vega.github.io/schema/vega-lite/v4.8.1.json",
       "config": {
        "view": {
         "continuousHeight": 300,
         "continuousWidth": 400
        }
       },
       "data": {
        "name": "data-8833440f737304311e72aeeffd7b9881"
       },
       "datasets": {
        "data-8833440f737304311e72aeeffd7b9881": [
         {
          "Bacteria": "Aerobacter aerogenes",
          "Genus": "other",
          "Gram_Staining": "negative",
          "Neomycin": 1.6,
          "Penicillin": 870,
          "Streptomycin": 1
         },
         {
          "Bacteria": "Bacillus anthracis",
          "Genus": "other",
          "Gram_Staining": "positive",
          "Neomycin": 0.007,
          "Penicillin": 0.001,
          "Streptomycin": 0.01
         },
         {
          "Bacteria": "Brucella abortus",
          "Genus": "other",
          "Gram_Staining": "negative",
          "Neomycin": 0.02,
          "Penicillin": 1,
          "Streptomycin": 2
         },
         {
          "Bacteria": "Diplococcus pneumoniae",
          "Genus": "other",
          "Gram_Staining": "positive",
          "Neomycin": 10,
          "Penicillin": 0.005,
          "Streptomycin": 11
         },
         {
          "Bacteria": "Escherichia coli",
          "Genus": "other",
          "Gram_Staining": "negative",
          "Neomycin": 0.1,
          "Penicillin": 100,
          "Streptomycin": 0.4
         },
         {
          "Bacteria": "Klebsiella pneumoniae",
          "Genus": "other",
          "Gram_Staining": "negative",
          "Neomycin": 1,
          "Penicillin": 850,
          "Streptomycin": 1.2
         },
         {
          "Bacteria": "Mycobacterium tuberculosis",
          "Genus": "other",
          "Gram_Staining": "negative",
          "Neomycin": 2,
          "Penicillin": 800,
          "Streptomycin": 5
         },
         {
          "Bacteria": "Proteus vulgaris",
          "Genus": "other",
          "Gram_Staining": "negative",
          "Neomycin": 0.1,
          "Penicillin": 3,
          "Streptomycin": 0.1
         },
         {
          "Bacteria": "Pseudomonas aeruginosa",
          "Genus": "other",
          "Gram_Staining": "negative",
          "Neomycin": 0.4,
          "Penicillin": 850,
          "Streptomycin": 2
         },
         {
          "Bacteria": "Salmonella (Eberthella) typhosa",
          "Genus": "Salmonella",
          "Gram_Staining": "negative",
          "Neomycin": 0.008,
          "Penicillin": 1,
          "Streptomycin": 0.4
         },
         {
          "Bacteria": "Salmonella schottmuelleri",
          "Genus": "Salmonella",
          "Gram_Staining": "negative",
          "Neomycin": 0.09,
          "Penicillin": 10,
          "Streptomycin": 0.8
         },
         {
          "Bacteria": "Staphylococcus albus",
          "Genus": "Staphylococcus",
          "Gram_Staining": "positive",
          "Neomycin": 0.001,
          "Penicillin": 0.007,
          "Streptomycin": 0.1
         },
         {
          "Bacteria": "Staphylococcus aureus",
          "Genus": "Staphylococcus",
          "Gram_Staining": "positive",
          "Neomycin": 0.001,
          "Penicillin": 0.03,
          "Streptomycin": 0.03
         },
         {
          "Bacteria": "Streptococcus fecalis",
          "Genus": "Streptococcus",
          "Gram_Staining": "positive",
          "Neomycin": 0.1,
          "Penicillin": 1,
          "Streptomycin": 1
         },
         {
          "Bacteria": "Streptococcus hemolyticus",
          "Genus": "Streptococcus",
          "Gram_Staining": "positive",
          "Neomycin": 10,
          "Penicillin": 0.001,
          "Streptomycin": 14
         },
         {
          "Bacteria": "Streptococcus viridans",
          "Genus": "Streptococcus",
          "Gram_Staining": "positive",
          "Neomycin": 40,
          "Penicillin": 0.005,
          "Streptomycin": 10
         }
        ]
       },
       "encoding": {
        "color": {
         "field": "Penicillin",
         "scale": {
          "scheme": "magma",
          "type": "log"
         },
         "type": "quantitative"
        },
        "y": {
         "field": "Bacteria",
         "sort": {
          "field": "Penicillin",
          "op": "max",
          "order": "descending"
         },
         "type": "nominal"
        }
       },
       "mark": "rect"
      },
      "text/plain": [
       "<VegaLite 4 object>\n",
       "\n",
       "If you see this message, it means the renderer has not been properly enabled\n",
       "for the frontend that you are using. For more information, see\n",
       "https://altair-viz.github.io/user_guide/troubleshooting.html\n"
      ]
     },
     "execution_count": 29,
     "metadata": {},
     "output_type": "execute_result"
    }
   ],
   "source": [
    "alt.Chart(df).mark_rect().encode(\n",
    "    alt.Y(\"Bacteria:N\", sort=alt.EncodingSortField(field=\"Penicillin\", op=\"max\", order=\"descending\")),\n",
    "    alt.Color(\"Penicillin:Q\", scale=alt.Scale(type=\"log\", scheme=\"magma\"))\n",
    ")"
   ]
  },
  {
   "cell_type": "code",
   "execution_count": null,
   "metadata": {},
   "outputs": [],
   "source": []
  }
 ],
 "metadata": {
  "kernelspec": {
   "display_name": "Python 3",
   "language": "python",
   "name": "python3"
  },
  "language_info": {
   "codemirror_mode": {
    "name": "ipython",
    "version": 3
   },
   "file_extension": ".py",
   "mimetype": "text/x-python",
   "name": "python",
   "nbconvert_exporter": "python",
   "pygments_lexer": "ipython3",
   "version": "3.10.9"
  },
  "orig_nbformat": 4
 },
 "nbformat": 4,
 "nbformat_minor": 2
}
